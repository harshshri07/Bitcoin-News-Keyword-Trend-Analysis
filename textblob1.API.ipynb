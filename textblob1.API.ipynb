{
 "cells": [
  {
   "cell_type": "markdown",
   "metadata": {},
   "source": [
    "# textblob1 API Usage Demo\n",
    "\n",
    "This notebook demonstrates usage of the native API and the textblob1 wrapper layer."
   ]
  },
  {
   "cell_type": "code",
   "execution_count": null,
   "metadata": {},
   "outputs": [],
   "source": [
    "import requests\n",
    "import pandas as pd\n",
    "from textblob import TextBlob\n",
    "from textblob1_utils import *\n",
    "\n",
    "%matplotlib inline"
   ]
  },
  {
   "cell_type": "markdown",
   "metadata": {},
   "source": [
    "## 1. Native API Usage"
   ]
  },
  {
   "cell_type": "code",
   "execution_count": null,
   "metadata": {},
   "outputs": [],
   "source": [
    "# 1.1 Direct NewsAPI Call (sample response structure)\n",
    "sample_response = {\n",
    "    'articles': [\n",
    "        {\n",
    "            'title': 'Bitcoin hits new high as institutional investors pile in',\n",
    "            'description': 'Bitcoin price surges past $60,000 as major hedge funds announce investments',\n",
    "            'publishedAt': '2023-05-01T08:00:00Z',\n",
    "            'source': {'name': 'CryptoNews'}\n",
    "        }\n",
    "    ]\n",
    "}\n",
    "\n",
    "# 1.2 Direct TextBlob Usage\n",
    "sample_text = \"Bitcoin price surges as institutional investors buy cryptocurrency\"\n",
    "blob = TextBlob(sample_text)\n",
    "print(\"Noun phrases:\", [phrase.lower() for phrase in blob.noun_phrases])\n",
    "print(\"Sentiment:\", blob.sentiment)"
   ]
  },
  {
   "cell_type": "markdown",
   "metadata": {},
   "source": [
    "## 2. Wrapper Layer Usage"
   ]
  },
  {
   "cell_type": "code",
   "execution_count": null,
   "metadata": {},
   "outputs": [],
   "source": [
    "# 2.1 Fetch Bitcoin News\n",
    "news_df = fetch_bitcoin_news(api_key=None, days=5)\n",
    "news_df.head(2)"
   ]
  },
  {
   "cell_type": "code",
   "execution_count": null,
   "metadata": {},
   "outputs": [],
   "source": [
    "# 2.2 Fetch Bitcoin Price Data\n",
    "price_df = fetch_bitcoin_prices(days=5)\n",
    "price_df.head(2)"
   ]
  },
  {
   "cell_type": "code",
   "execution_count": null,
   "metadata": {},
   "outputs": [],
   "source": [
    "# 2.3 Extract Keywords with Enhanced Filtering\n",
    "news_with_keywords = extract_keywords(news_df)\n",
    "news_with_keywords[['title', 'keywords']].head(2)"
   ]
  },
  {
   "cell_type": "code",
   "execution_count": null,
   "metadata": {},
   "outputs": [],
   "source": [
    "# 2.4 Analyze Keyword Trends and Price Correlations\n",
    "trend_data = analyze_trends(news_with_keywords, price_df)\n",
    "trend_data.head(3)"
   ]
  },
  {
   "cell_type": "code",
   "execution_count": null,
   "metadata": {},
   "outputs": [],
   "source": [
    "# 2.5 Run Granger Causality Tests\n",
    "causality_results = run_granger_tests(trend_data, top_n=3, max_lag=1, min_data_points=3)\n",
    "if causality_results is not None:\n",
    "    causality_results[['keyword', 'correlation', 'k2p_pvalue', 'p2k_pvalue']]"
   ]
  }
 ],
 "metadata": {
  "language_info": {
   "name": "python"
  }
 },
 "nbformat": 4,
 "nbformat_minor": 2
}
